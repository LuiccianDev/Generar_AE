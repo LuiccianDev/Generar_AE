{
 "cells": [
  {
   "cell_type": "code",
   "execution_count": null,
   "metadata": {},
   "outputs": [],
   "source": [
    "# Importar bibliotecas necesarias\n",
    "import pandas as pd\n",
    "import numpy as np\n",
    "import seaborn as sns\n",
    "import matplotlib.pyplot as plt\n",
    "from sklearn.preprocessing import LabelEncoder"
   ]
  },
  {
   "cell_type": "code",
   "execution_count": null,
   "metadata": {},
   "outputs": [],
   "source": [
    "# Simulación de datos (deberías tener tus propios datos)\n",
    "np.random.seed(42)\n",
    "\n",
    "n = 10000  # Número de muestras\n",
    "\n",
    "# Simulando un DataFrame con las nuevas características\n",
    "df = pd.DataFrame({\n",
    "    'Frecuencia_Chasquido_Hz': np.random.randint(75, 100, size=n),\n",
    "    'Amplitud_Chasquido_dB': np.random.randint(900, 1100, size=n),\n",
    "    'Esfuerzo_Vertical_kPa': np.random.uniform(200, 225, size=n),\n",
    "    'Esfuerzo_Horizontal_kPa': np.random.uniform(150, 175, size=n),\n",
    "    'Tipo_Roca': np.random.choice([1, 2, 3], size=n),  # Valores codificados (1: Granito, 2: Limestone, 3: Shale)\n",
    "    'Profundidad': np.random.uniform(1500, 4000, size=n),\n",
    "    'Humedad_Roca': np.random.uniform(20, 40, size=n),\n",
    "    'Temperatura': np.random.uniform(35, 45, size=n),\n",
    "    'Tipo_Fractura': np.random.choice([3, 5], size=n),  # Valores codificados (3: Fractura Baja, 5: Fractura Alta)\n",
    "    'Resistencia_Compresion': np.random.uniform(100, 150, size=n),\n",
    "    'Modulo_Elasticidad': np.random.uniform(40, 50, size=n),\n",
    "    'Historial_Fallos': np.random.choice([0, 1], size=n),\n",
    "    'Angulo_Inclinacion': np.random.uniform(0, 45, size=n),\n",
    "    'Tipo_Sostenimiento_Previo': np.random.choice([0, 1, 2, 3], size=n)\n",
    "})\n",
    "df_1 = pd.DataFrame()\n",
    "df_1['Tipo_Sostenimiento'] = np.random.choice([0, 1, 2, 3], size=n)\n",
    "\n",
    "# Codificación de variables categóricas\n",
    "label_encoder = LabelEncoder()\n",
    "df['Tipo_Roca_encoded'] = label_encoder.fit_transform(df['Tipo_Roca'])\n",
    "df['Tipo_Fractura_encoded'] = label_encoder.fit_transform(df['Tipo_Fractura'])\n",
    "\n",
    "# Correlación de las características numéricas\n",
    "correlation_matrix = df.corr()\n",
    "\n",
    "# Graficar la matriz de correlación\n",
    "plt.figure(figsize=(12, 8))\n",
    "sns.heatmap(correlation_matrix, annot=True, cmap='coolwarm', fmt='.2f', linewidths=0.5)\n",
    "plt.title('Matriz de Correlación de Variables')\n",
    "plt.show()\n",
    "\n",
    "# Umbral de correlación para seleccionar variables (puedes ajustar este valor)\n",
    "umbral_correlacion = 0.2\n",
    "\n",
    "# Seleccionar las características con correlación significativa (> umbral)\n",
    "significant_features = correlation_matrix.columns[abs(correlation_matrix).gt(umbral_correlacion).any()]\n",
    "\n",
    "# Filtrar las columnas del DataFrame con las características significativas\n",
    "df_significant = df[significant_features]\n",
    "df_significant['Tipo_Sostenimiento'] = df_1['Tipo_Sostenimiento']\n",
    "# Guardar el DataFrame filtrado (con las variables significativas) en un archivo CSV\n",
    "df_significant.to_csv(r'C:\\Users\\DAVID\\Desktop\\MECANICA_ROCAS_FREEFEM\\MODELO_PREDICCION_SOSTENIMIENTO\\DATA\\datos_red_neuronal.csv', index=False)\n",
    "\n",
    "# Confirmar que el archivo se guardó correctamente\n",
    "print(\"Archivo CSV con características significativas guardado como 'datos_entradas_red_neuronal.csv'\")\n"
   ]
  }
 ],
 "metadata": {
  "kernelspec": {
   "display_name": "Python 3",
   "language": "python",
   "name": "python3"
  },
  "language_info": {
   "codemirror_mode": {
    "name": "ipython",
    "version": 3
   },
   "file_extension": ".py",
   "mimetype": "text/x-python",
   "name": "python",
   "nbconvert_exporter": "python",
   "pygments_lexer": "ipython3",
   "version": "3.12.0"
  }
 },
 "nbformat": 4,
 "nbformat_minor": 2
}
