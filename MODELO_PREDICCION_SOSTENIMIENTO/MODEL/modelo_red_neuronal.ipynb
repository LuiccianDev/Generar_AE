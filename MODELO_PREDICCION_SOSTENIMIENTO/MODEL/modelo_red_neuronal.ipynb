{
 "cells": [
  {
   "cell_type": "code",
   "execution_count": null,
   "metadata": {},
   "outputs": [],
   "source": [
    "# Importar bibliotecas necesarias para la red neuronal\n",
    "import pandas as pd\n",
    "import numpy as np\n",
    "from sklearn.model_selection import train_test_split\n",
    "from sklearn.preprocessing import StandardScaler\n",
    "from tensorflow.keras.models import Sequential\n",
    "from tensorflow.keras.layers import Dense,Dropout,LeakyReLU,Activation\n",
    "from tensorflow.keras.optimizers import Adam, RMSprop\n",
    "from tensorflow.keras.utils import to_categorical\n",
    "from tensorflow.keras.callbacks import EarlyStopping\n",
    "import matplotlib.pyplot as plt"
   ]
  },
  {
   "cell_type": "code",
   "execution_count": null,
   "metadata": {},
   "outputs": [],
   "source": [
    "df = pd.read_csv(r'C:\\Users\\DAVID\\Desktop\\MECANICA_ROCAS_FREEFEM\\MODELO_PREDICCION_SOSTENIMIENTO\\DATA\\datos_red_neuronal.csv')\n",
    "df.drop([\"Tipo_Roca\",\"Historial_Fallos\",\"Tipo_Roca_encoded\",\"Tipo_Sostenimiento_Previo\"], axis=1, inplace=True)\n"
   ]
  },
  {
   "cell_type": "code",
   "execution_count": null,
   "metadata": {},
   "outputs": [],
   "source": [
    "df.head()"
   ]
  },
  {
   "cell_type": "code",
   "execution_count": null,
   "metadata": {},
   "outputs": [],
   "source": [
    "columnas = df.columns.to_list()\n",
    "columnas.pop(-1)\n",
    "columnas"
   ]
  },
  {
   "cell_type": "code",
   "execution_count": null,
   "metadata": {},
   "outputs": [],
   "source": [
    "\n",
    "# Seleccionar las características de entrada (X)\n",
    "X = df[columnas]\n",
    "X\n"
   ]
  },
  {
   "cell_type": "code",
   "execution_count": null,
   "metadata": {},
   "outputs": [],
   "source": [
    "\n",
    "# La variable objetivo (y)\n",
    "y = df['Tipo_Sostenimiento']\n",
    "y"
   ]
  },
  {
   "cell_type": "code",
   "execution_count": null,
   "metadata": {},
   "outputs": [],
   "source": [
    "# Normalización de los datos\n",
    "scaler = StandardScaler()\n",
    "X_scaled = scaler.fit_transform(X)\n",
    "\n",
    "# Codificación de la variable objetivo para clasificación multiclase\n",
    "y_encoded = to_categorical(y, num_classes=4)\n",
    "\n",
    "# Dividir en conjunto de entrenamiento y prueba (80% entrenamiento, 20% prueba)\n",
    "X_train, X_test, y_train, y_test = train_test_split(X_scaled, y_encoded, test_size=0.2, random_state=42)\n",
    "\n",
    "# Definir el modelo de red neuronal\n",
    "model = Sequential([\n",
    "    Dense(128, input_dim=X_train.shape[1]),  # Capa de entrada\n",
    "    LeakyReLU(alpha=0.1),  # Función de activación Leaky ReLU\n",
    "    Dropout(0.5),\n",
    "    Dense(64),\n",
    "    LeakyReLU(alpha=0.1),\n",
    "    Dropout(0.5),\n",
    "    Dense(32),\n",
    "    Dense(4, activation='softmax')  # Capa de salida con 4 neuronas (una para cada clase)\n",
    "])\n",
    "\n",
    "#! Cambiar el optimizador a RMSprop o Adam\n",
    "optimizer = RMSprop(learning_rate=0.001)  # Puedes experimentar con el learning rate\n",
    "\n",
    "# Compilar el modelo\n",
    "model.compile(optimizer=optimizer, loss='categorical_crossentropy', metrics=['accuracy'])\n",
    "\n",
    "# Definir EarlyStopping para evitar sobreajuste\n",
    "early_stopping = EarlyStopping(monitor='val_loss', patience=5, restore_best_weights=True)\n",
    "\n",
    "# Entrenar el modelo\n",
    "history = model.fit(X_train, y_train, epochs=50, batch_size=32, validation_data=(X_test, y_test), callbacks=[early_stopping])\n",
    "\n",
    "# Evaluar el modelo en el conjunto de prueba\n",
    "loss, accuracy = model.evaluate(X_test, y_test)\n",
    "print(f\"Precisión en el conjunto de prueba: {accuracy * 100:.2f}%\")\n",
    "\n",
    "# Graficar el desempeño del modelo durante el entrenamiento\n",
    "plt.plot(history.history['accuracy'], label='Precisión en entrenamiento')\n",
    "plt.plot(history.history['val_accuracy'], label='Precisión en validación')\n",
    "plt.title('Precisión del Modelo durante el Entrenamiento')\n",
    "plt.xlabel('Épocas')\n",
    "plt.ylabel('Precisión')\n",
    "plt.legend()\n",
    "plt.show()\n",
    "\n",
    "# Graficar la pérdida durante el entrenamiento\n",
    "plt.plot(history.history['loss'], label='Pérdida en entrenamiento')\n",
    "plt.plot(history.history['val_loss'], label='Pérdida en validación')\n",
    "plt.title('Pérdida del Modelo durante el Entrenamiento')\n",
    "plt.xlabel('Épocas')\n",
    "plt.ylabel('Pérdida')\n",
    "plt.legend()\n",
    "plt.show()\n",
    "\n"
   ]
  },
  {
   "cell_type": "code",
   "execution_count": null,
   "metadata": {},
   "outputs": [],
   "source": [
    "diccionario = {}\n",
    "# Datos de entrada\n",
    "for columna in columnas:\n",
    "    value = float(input(f\"Ingrese el valor para la columna '{columna}': \"))\n",
    "    diccionario[columna] = [value]\n"
   ]
  },
  {
   "cell_type": "code",
   "execution_count": null,
   "metadata": {},
   "outputs": [],
   "source": [
    "# Hacer la predicción con nuevos datos\n",
    "input_data = pd.DataFrame(diccionario)\n",
    "\n",
    "# Normalizar los datos de entrada\n",
    "input_data_scaled = scaler.transform(input_data)\n",
    "\n",
    "# Hacer la predicción\n",
    "prediccion = model.predict(input_data_scaled)\n",
    "tipo_sostenimiento_predicho = np.argmax(prediccion, axis=1)\n",
    "\n",
    "print(f\"El tipo de sostenimiento predicho es: {tipo_sostenimiento_predicho[0]}\")"
   ]
  }
 ],
 "metadata": {
  "kernelspec": {
   "display_name": "Python 3",
   "language": "python",
   "name": "python3"
  },
  "language_info": {
   "codemirror_mode": {
    "name": "ipython",
    "version": 3
   },
   "file_extension": ".py",
   "mimetype": "text/x-python",
   "name": "python",
   "nbconvert_exporter": "python",
   "pygments_lexer": "ipython3",
   "version": "3.12.0"
  }
 },
 "nbformat": 4,
 "nbformat_minor": 2
}
