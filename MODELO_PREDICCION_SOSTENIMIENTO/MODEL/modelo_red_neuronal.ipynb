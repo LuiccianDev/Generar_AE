{
 "cells": [
  {
   "cell_type": "code",
   "execution_count": 1,
   "metadata": {},
   "outputs": [],
   "source": [
    "# Importar bibliotecas necesarias para la red neuronal\n",
    "import pandas as pd\n",
    "import numpy as np\n",
    "from sklearn.model_selection import train_test_split\n",
    "from sklearn.preprocessing import StandardScaler\n",
    "from tensorflow.keras.models import Sequential\n",
    "from tensorflow.keras.layers import Dense,Dropout,LeakyReLU,Activation\n",
    "from tensorflow.keras.optimizers import Adam, RMSprop\n",
    "from tensorflow.keras.utils import to_categorical\n",
    "from tensorflow.keras.callbacks import EarlyStopping\n",
    "import matplotlib.pyplot as plt\n",
    "import warnings\n",
    "warnings.filterwarnings(\"ignore\")"
   ]
  },
  {
   "cell_type": "markdown",
   "metadata": {},
   "source": [
    "Cargar los datos generados por el Modelo_correlacion"
   ]
  },
  {
   "cell_type": "code",
   "execution_count": 2,
   "metadata": {},
   "outputs": [],
   "source": [
    "df = pd.read_csv(r'C:\\Users\\DAVID\\Desktop\\MECANICA_ROCAS_FREEFEM\\MODELO_PREDICCION_SOSTENIMIENTO\\DATA\\datos_red_neurona_3.csv')"
   ]
  },
  {
   "cell_type": "markdown",
   "metadata": {},
   "source": [
    "Previsualizar los datos "
   ]
  },
  {
   "cell_type": "code",
   "execution_count": 3,
   "metadata": {},
   "outputs": [
    {
     "data": {
      "text/html": [
       "<div>\n",
       "<style scoped>\n",
       "    .dataframe tbody tr th:only-of-type {\n",
       "        vertical-align: middle;\n",
       "    }\n",
       "\n",
       "    .dataframe tbody tr th {\n",
       "        vertical-align: top;\n",
       "    }\n",
       "\n",
       "    .dataframe thead th {\n",
       "        text-align: right;\n",
       "    }\n",
       "</style>\n",
       "<table border=\"1\" class=\"dataframe\">\n",
       "  <thead>\n",
       "    <tr style=\"text-align: right;\">\n",
       "      <th></th>\n",
       "      <th>Frecuencia_Chasquido_Hz</th>\n",
       "      <th>Amplitud_Chasquido_dB</th>\n",
       "      <th>Esfuerzo_Vertical_MPa</th>\n",
       "      <th>Esfuerzo_Horizontal_MPa</th>\n",
       "      <th>Profundidad</th>\n",
       "      <th>Humedad_Roca_%</th>\n",
       "      <th>Temperatura</th>\n",
       "      <th>Tipo_Fractura</th>\n",
       "      <th>Resistencia_Compresion_MPa</th>\n",
       "      <th>Modulo_Elasticidad_MPa</th>\n",
       "      <th>Numero_Pulsaciones</th>\n",
       "      <th>Tipo_Sostenimiento</th>\n",
       "    </tr>\n",
       "  </thead>\n",
       "  <tbody>\n",
       "    <tr>\n",
       "      <th>0</th>\n",
       "      <td>112</td>\n",
       "      <td>117</td>\n",
       "      <td>19.811152</td>\n",
       "      <td>25.430967</td>\n",
       "      <td>409.840473</td>\n",
       "      <td>4.248918</td>\n",
       "      <td>20.480477</td>\n",
       "      <td>1</td>\n",
       "      <td>242.425895</td>\n",
       "      <td>54.161153</td>\n",
       "      <td>1059</td>\n",
       "      <td>3</td>\n",
       "    </tr>\n",
       "    <tr>\n",
       "      <th>1</th>\n",
       "      <td>189</td>\n",
       "      <td>189</td>\n",
       "      <td>44.866565</td>\n",
       "      <td>21.133087</td>\n",
       "      <td>121.259589</td>\n",
       "      <td>1.978634</td>\n",
       "      <td>20.544223</td>\n",
       "      <td>2</td>\n",
       "      <td>108.374145</td>\n",
       "      <td>51.506112</td>\n",
       "      <td>2372</td>\n",
       "      <td>3</td>\n",
       "    </tr>\n",
       "    <tr>\n",
       "      <th>2</th>\n",
       "      <td>102</td>\n",
       "      <td>144</td>\n",
       "      <td>43.142512</td>\n",
       "      <td>3.718293</td>\n",
       "      <td>943.986510</td>\n",
       "      <td>1.897602</td>\n",
       "      <td>23.678305</td>\n",
       "      <td>1</td>\n",
       "      <td>208.642434</td>\n",
       "      <td>54.287256</td>\n",
       "      <td>2244</td>\n",
       "      <td>3</td>\n",
       "    </tr>\n",
       "    <tr>\n",
       "      <th>3</th>\n",
       "      <td>24</td>\n",
       "      <td>192</td>\n",
       "      <td>14.480618</td>\n",
       "      <td>14.670532</td>\n",
       "      <td>1080.215309</td>\n",
       "      <td>4.641185</td>\n",
       "      <td>47.810023</td>\n",
       "      <td>2</td>\n",
       "      <td>115.446672</td>\n",
       "      <td>52.788908</td>\n",
       "      <td>2877</td>\n",
       "      <td>3</td>\n",
       "    </tr>\n",
       "    <tr>\n",
       "      <th>4</th>\n",
       "      <td>116</td>\n",
       "      <td>154</td>\n",
       "      <td>33.093068</td>\n",
       "      <td>20.876889</td>\n",
       "      <td>497.010948</td>\n",
       "      <td>0.855655</td>\n",
       "      <td>35.153701</td>\n",
       "      <td>2</td>\n",
       "      <td>228.626105</td>\n",
       "      <td>50.582407</td>\n",
       "      <td>2643</td>\n",
       "      <td>3</td>\n",
       "    </tr>\n",
       "  </tbody>\n",
       "</table>\n",
       "</div>"
      ],
      "text/plain": [
       "   Frecuencia_Chasquido_Hz  Amplitud_Chasquido_dB  Esfuerzo_Vertical_MPa  \\\n",
       "0                      112                    117              19.811152   \n",
       "1                      189                    189              44.866565   \n",
       "2                      102                    144              43.142512   \n",
       "3                       24                    192              14.480618   \n",
       "4                      116                    154              33.093068   \n",
       "\n",
       "   Esfuerzo_Horizontal_MPa  Profundidad  Humedad_Roca_%  Temperatura  \\\n",
       "0                25.430967   409.840473        4.248918    20.480477   \n",
       "1                21.133087   121.259589        1.978634    20.544223   \n",
       "2                 3.718293   943.986510        1.897602    23.678305   \n",
       "3                14.670532  1080.215309        4.641185    47.810023   \n",
       "4                20.876889   497.010948        0.855655    35.153701   \n",
       "\n",
       "   Tipo_Fractura  Resistencia_Compresion_MPa  Modulo_Elasticidad_MPa  \\\n",
       "0              1                  242.425895               54.161153   \n",
       "1              2                  108.374145               51.506112   \n",
       "2              1                  208.642434               54.287256   \n",
       "3              2                  115.446672               52.788908   \n",
       "4              2                  228.626105               50.582407   \n",
       "\n",
       "   Numero_Pulsaciones  Tipo_Sostenimiento  \n",
       "0                1059                   3  \n",
       "1                2372                   3  \n",
       "2                2244                   3  \n",
       "3                2877                   3  \n",
       "4                2643                   3  "
      ]
     },
     "execution_count": 3,
     "metadata": {},
     "output_type": "execute_result"
    }
   ],
   "source": [
    "df.head()"
   ]
  },
  {
   "cell_type": "markdown",
   "metadata": {},
   "source": [
    "Obtener los nombres de las columnas \n"
   ]
  },
  {
   "cell_type": "code",
   "execution_count": 4,
   "metadata": {},
   "outputs": [
    {
     "data": {
      "text/plain": [
       "['Frecuencia_Chasquido_Hz',\n",
       " 'Amplitud_Chasquido_dB',\n",
       " 'Esfuerzo_Vertical_MPa',\n",
       " 'Esfuerzo_Horizontal_MPa',\n",
       " 'Profundidad',\n",
       " 'Humedad_Roca_%',\n",
       " 'Temperatura',\n",
       " 'Tipo_Fractura',\n",
       " 'Resistencia_Compresion_MPa',\n",
       " 'Modulo_Elasticidad_MPa',\n",
       " 'Numero_Pulsaciones']"
      ]
     },
     "execution_count": 4,
     "metadata": {},
     "output_type": "execute_result"
    }
   ],
   "source": [
    "columnas = df.columns.to_list()\n",
    "columnas.pop(-1)\n",
    "columnas"
   ]
  },
  {
   "cell_type": "code",
   "execution_count": 5,
   "metadata": {},
   "outputs": [],
   "source": [
    "# Seleccionar las características de entrada (X)\n",
    "X = df[columnas]\n",
    "# La variable objetivo (y)\n",
    "y = df['Tipo_Sostenimiento']"
   ]
  },
  {
   "cell_type": "markdown",
   "metadata": {},
   "source": [
    "Definir el modelo de Entrenamiento"
   ]
  },
  {
   "cell_type": "code",
   "execution_count": 6,
   "metadata": {},
   "outputs": [],
   "source": [
    "# Normalización de los datos\n",
    "scaler = StandardScaler()\n",
    "X_scaled = scaler.fit_transform(X)\n",
    "\n",
    "# Codificación de la variable objetivo para clasificación multiclase\n",
    "y_encoded = to_categorical(y, num_classes=4)\n",
    "\n",
    "# Dividir en conjunto de entrenamiento y prueba (80% entrenamiento, 20% prueba)\n",
    "X_train, X_test, y_train, y_test = train_test_split(X_scaled, y_encoded, test_size=0.2, random_state=42)\n",
    "\n",
    "# Definir el modelo de red neuronal\n",
    "model = Sequential([\n",
    "    Dense(128, input_dim=X_train.shape[1]),  # Capa de entrada\n",
    "    LeakyReLU(alpha=0.1),  # Función de activación Leaky ReLU\n",
    "    Dropout(0.5),\n",
    "    Dense(64),\n",
    "    LeakyReLU(alpha=0.1),\n",
    "    Dropout(0.5),\n",
    "    Dense(32),\n",
    "    Dense(4, activation='softmax')  # Capa de salida con 4 neuronas (una para cada clase)\n",
    "])\n"
   ]
  },
  {
   "cell_type": "markdown",
   "metadata": {},
   "source": [
    "# Adam \n",
    " - Algoritmo de optimización potente y flexible que ajusta dinámicamente la tasa de aprendizaje para cada parámetro, utilizando la información del primer y segundo momento de los gradientes."
   ]
  },
  {
   "cell_type": "code",
   "execution_count": null,
   "metadata": {},
   "outputs": [
    {
     "name": "stdout",
     "output_type": "stream",
     "text": [
      "Epoch 1/50\n",
      "\u001b[1m250/250\u001b[0m \u001b[32m━━━━━━━━━━━━━━━━━━━━\u001b[0m\u001b[37m\u001b[0m \u001b[1m4s\u001b[0m 5ms/step - accuracy: 0.8596 - loss: 0.4322 - val_accuracy: 0.9495 - val_loss: 0.1203\n",
      "Epoch 2/50\n",
      "\u001b[1m250/250\u001b[0m \u001b[32m━━━━━━━━━━━━━━━━━━━━\u001b[0m\u001b[37m\u001b[0m \u001b[1m1s\u001b[0m 3ms/step - accuracy: 0.9528 - loss: 0.1347 - val_accuracy: 0.9600 - val_loss: 0.0999\n",
      "Epoch 3/50\n",
      "\u001b[1m250/250\u001b[0m \u001b[32m━━━━━━━━━━━━━━━━━━━━\u001b[0m\u001b[37m\u001b[0m \u001b[1m1s\u001b[0m 3ms/step - accuracy: 0.9596 - loss: 0.1087 - val_accuracy: 0.9590 - val_loss: 0.0989\n",
      "Epoch 4/50\n",
      "\u001b[1m250/250\u001b[0m \u001b[32m━━━━━━━━━━━━━━━━━━━━\u001b[0m\u001b[37m\u001b[0m \u001b[1m1s\u001b[0m 3ms/step - accuracy: 0.9562 - loss: 0.1092 - val_accuracy: 0.9585 - val_loss: 0.0948\n",
      "Epoch 5/50\n",
      "\u001b[1m250/250\u001b[0m \u001b[32m━━━━━━━━━━━━━━━━━━━━\u001b[0m\u001b[37m\u001b[0m \u001b[1m1s\u001b[0m 3ms/step - accuracy: 0.9553 - loss: 0.1054 - val_accuracy: 0.9605 - val_loss: 0.0929\n",
      "Epoch 6/50\n",
      "\u001b[1m250/250\u001b[0m \u001b[32m━━━━━━━━━━━━━━━━━━━━\u001b[0m\u001b[37m\u001b[0m \u001b[1m1s\u001b[0m 3ms/step - accuracy: 0.9593 - loss: 0.0966 - val_accuracy: 0.9595 - val_loss: 0.0924\n",
      "Epoch 7/50\n",
      "\u001b[1m250/250\u001b[0m \u001b[32m━━━━━━━━━━━━━━━━━━━━\u001b[0m\u001b[37m\u001b[0m \u001b[1m1s\u001b[0m 3ms/step - accuracy: 0.9591 - loss: 0.0983 - val_accuracy: 0.9635 - val_loss: 0.0905\n",
      "Epoch 8/50\n",
      "\u001b[1m250/250\u001b[0m \u001b[32m━━━━━━━━━━━━━━━━━━━━\u001b[0m\u001b[37m\u001b[0m \u001b[1m1s\u001b[0m 3ms/step - accuracy: 0.9606 - loss: 0.0897 - val_accuracy: 0.9640 - val_loss: 0.0858\n",
      "Epoch 9/50\n",
      "\u001b[1m250/250\u001b[0m \u001b[32m━━━━━━━━━━━━━━━━━━━━\u001b[0m\u001b[37m\u001b[0m \u001b[1m1s\u001b[0m 3ms/step - accuracy: 0.9613 - loss: 0.0959 - val_accuracy: 0.9665 - val_loss: 0.0837\n",
      "Epoch 10/50\n",
      "\u001b[1m250/250\u001b[0m \u001b[32m━━━━━━━━━━━━━━━━━━━━\u001b[0m\u001b[37m\u001b[0m \u001b[1m1s\u001b[0m 3ms/step - accuracy: 0.9581 - loss: 0.0996 - val_accuracy: 0.9630 - val_loss: 0.0827\n",
      "Epoch 11/50\n",
      "\u001b[1m250/250\u001b[0m \u001b[32m━━━━━━━━━━━━━━━━━━━━\u001b[0m\u001b[37m\u001b[0m \u001b[1m1s\u001b[0m 3ms/step - accuracy: 0.9639 - loss: 0.0834 - val_accuracy: 0.9625 - val_loss: 0.0810\n",
      "Epoch 12/50\n",
      "\u001b[1m250/250\u001b[0m \u001b[32m━━━━━━━━━━━━━━━━━━━━\u001b[0m\u001b[37m\u001b[0m \u001b[1m1s\u001b[0m 3ms/step - accuracy: 0.9641 - loss: 0.0895 - val_accuracy: 0.9730 - val_loss: 0.0795\n",
      "Epoch 13/50\n",
      "\u001b[1m250/250\u001b[0m \u001b[32m━━━━━━━━━━━━━━━━━━━━\u001b[0m\u001b[37m\u001b[0m \u001b[1m1s\u001b[0m 3ms/step - accuracy: 0.9652 - loss: 0.0911 - val_accuracy: 0.9680 - val_loss: 0.0775\n",
      "Epoch 14/50\n",
      "\u001b[1m250/250\u001b[0m \u001b[32m━━━━━━━━━━━━━━━━━━━━\u001b[0m\u001b[37m\u001b[0m \u001b[1m1s\u001b[0m 3ms/step - accuracy: 0.9697 - loss: 0.0758 - val_accuracy: 0.9650 - val_loss: 0.0819\n",
      "Epoch 15/50\n",
      "\u001b[1m250/250\u001b[0m \u001b[32m━━━━━━━━━━━━━━━━━━━━\u001b[0m\u001b[37m\u001b[0m \u001b[1m1s\u001b[0m 3ms/step - accuracy: 0.9662 - loss: 0.0809 - val_accuracy: 0.9705 - val_loss: 0.0768\n",
      "Epoch 16/50\n",
      "\u001b[1m250/250\u001b[0m \u001b[32m━━━━━━━━━━━━━━━━━━━━\u001b[0m\u001b[37m\u001b[0m \u001b[1m1s\u001b[0m 3ms/step - accuracy: 0.9707 - loss: 0.0766 - val_accuracy: 0.9700 - val_loss: 0.0779\n",
      "Epoch 17/50\n",
      "\u001b[1m250/250\u001b[0m \u001b[32m━━━━━━━━━━━━━━━━━━━━\u001b[0m\u001b[37m\u001b[0m \u001b[1m1s\u001b[0m 3ms/step - accuracy: 0.9680 - loss: 0.0811 - val_accuracy: 0.9695 - val_loss: 0.0750\n",
      "Epoch 18/50\n",
      "\u001b[1m250/250\u001b[0m \u001b[32m━━━━━━━━━━━━━━━━━━━━\u001b[0m\u001b[37m\u001b[0m \u001b[1m1s\u001b[0m 3ms/step - accuracy: 0.9706 - loss: 0.0764 - val_accuracy: 0.9700 - val_loss: 0.0747\n",
      "Epoch 19/50\n",
      "\u001b[1m250/250\u001b[0m \u001b[32m━━━━━━━━━━━━━━━━━━━━\u001b[0m\u001b[37m\u001b[0m \u001b[1m1s\u001b[0m 3ms/step - accuracy: 0.9710 - loss: 0.0683 - val_accuracy: 0.9720 - val_loss: 0.0745\n",
      "Epoch 20/50\n",
      "\u001b[1m250/250\u001b[0m \u001b[32m━━━━━━━━━━━━━━━━━━━━\u001b[0m\u001b[37m\u001b[0m \u001b[1m1s\u001b[0m 3ms/step - accuracy: 0.9709 - loss: 0.0732 - val_accuracy: 0.9745 - val_loss: 0.0710\n",
      "Epoch 21/50\n",
      "\u001b[1m250/250\u001b[0m \u001b[32m━━━━━━━━━━━━━━━━━━━━\u001b[0m\u001b[37m\u001b[0m \u001b[1m1s\u001b[0m 3ms/step - accuracy: 0.9720 - loss: 0.0666 - val_accuracy: 0.9735 - val_loss: 0.0725\n",
      "Epoch 22/50\n",
      "\u001b[1m250/250\u001b[0m \u001b[32m━━━━━━━━━━━━━━━━━━━━\u001b[0m\u001b[37m\u001b[0m \u001b[1m1s\u001b[0m 3ms/step - accuracy: 0.9709 - loss: 0.0693 - val_accuracy: 0.9720 - val_loss: 0.0761\n",
      "Epoch 23/50\n",
      "\u001b[1m250/250\u001b[0m \u001b[32m━━━━━━━━━━━━━━━━━━━━\u001b[0m\u001b[37m\u001b[0m \u001b[1m1s\u001b[0m 3ms/step - accuracy: 0.9730 - loss: 0.0720 - val_accuracy: 0.9725 - val_loss: 0.0726\n",
      "Epoch 24/50\n",
      "\u001b[1m  7/250\u001b[0m \u001b[37m━━━━━━━━━━━━━━━━━━━━\u001b[0m \u001b[1m0s\u001b[0m 3ms/step - accuracy: 0.9751 - loss: 0.078670"
     ]
    }
   ],
   "source": [
    "\n",
    "#! Cambiar el optimizador a RMSprop o Adam\n",
    "optimizer = Adam(learning_rate=0.001)  # Puedes experimentar con el learning rate\n",
    "\n",
    "# Compilar el modelo\n",
    "model.compile(optimizer=optimizer, loss='categorical_crossentropy', metrics=['accuracy'])\n",
    "\n",
    "# Definir EarlyStopping para evitar sobreajuste\n",
    "early_stopping = EarlyStopping(monitor='val_loss', patience=5, restore_best_weights=True)\n",
    "\n",
    "# Entrenar el modelo\n",
    "history = model.fit(X_train, y_train, epochs=50, batch_size=32, validation_data=(X_test, y_test), callbacks=[early_stopping])\n",
    "\n",
    "# Evaluar el modelo en el conjunto de prueba\n",
    "loss, accuracy = model.evaluate(X_test, y_test)\n",
    "print(f\"Precisión en el conjunto de prueba: {accuracy * 100:.2f}%\")\n",
    "\n",
    "# Graficar el desempeño del modelo durante el entrenamiento\n",
    "plt.plot(history.history['accuracy'], label='Precisión en entrenamiento')\n",
    "plt.plot(history.history['val_accuracy'], label='Precisión en validación')\n",
    "plt.title('Precisión del Modelo durante el Entrenamiento')\n",
    "plt.xlabel('Épocas')\n",
    "plt.ylabel('Precisión')\n",
    "plt.legend()\n",
    "plt.show()\n",
    "\n",
    "# Graficar la pérdida durante el entrenamiento\n",
    "plt.plot(history.history['loss'], label='Pérdida en entrenamiento')\n",
    "plt.plot(history.history['val_loss'], label='Pérdida en validación')\n",
    "plt.title('Pérdida del Modelo durante el Entrenamiento')\n",
    "plt.xlabel('Épocas')\n",
    "plt.ylabel('Pérdida')\n",
    "plt.legend()\n",
    "plt.show()\n",
    "\n"
   ]
  },
  {
   "cell_type": "markdown",
   "metadata": {},
   "source": [
    "Precision Entrenamineto \n",
    " - Es la medida de qué tan bien el modelo predice las etiquetas o valores correctos sobre los datos que utilizó para aprender \n",
    " \n",
    "Precision Validacion\n",
    " - Es la medida de qué tan bien el modelo predice las etiquetas o valores correctos sobre un conjunto de datos que no utilizó durante el entrenamiento"
   ]
  },
  {
   "cell_type": "markdown",
   "metadata": {},
   "source": [
    "Perdidad en entrenamiento\n",
    " - Nos indica qué tan bien el modelo se ajusta a los datos que ha visto durante el entrenamiento.\n",
    " - Una pérdida baja en entrenamiento significa que el modelo está aprendiendo las relaciones en los datos.\n",
    "\n",
    "Perdidad en Validacion\n",
    " - Nos indica qué tan bien el modelo generaliza a nuevos datos que no ha visto durante el entrenamiento.\n",
    " - Una pérdida baja en validación significa que el modelo es capaz de hacer buenas predicciones en datos desconocidos."
   ]
  },
  {
   "cell_type": "markdown",
   "metadata": {},
   "source": [
    " ## Introducir datos para predecir el tipo de sotenimiento "
   ]
  },
  {
   "cell_type": "code",
   "execution_count": 283,
   "metadata": {},
   "outputs": [],
   "source": [
    "diccionario = [{'Frecuencia_Chasquido_Hz':123,\n",
    "                'Amplitud_Chasquido_dB': 150,\n",
    "                'Esfuerzo_Vertical_MPa': 12.5,\n",
    "                'Esfuerzo_Horizontal_MPa': 10,\n",
    "                'Profundidad': 500,\n",
    "                'Humedad_Roca_%': 2.3,\n",
    "                'Temperatura': 30.5,\n",
    "                'Tipo_Fractura': 1,\n",
    "                'Resistencia_Compresion_MPa': 180,\n",
    "                'Modulo_Elasticidad_MPa': 60,\n",
    "                'Numero_Pulsaciones': 1000}]\n"
   ]
  },
  {
   "cell_type": "markdown",
   "metadata": {},
   "source": [
    "# Tipos de sostenimiento comúnmente utilizados:\n",
    "\n",
    " -Tipo 0 (No necesario): Aquí, la roca es suficientemente estable como para no requerir un gran soporte. El uso de estos materiales e instrumentos es mínimo.\n",
    "\n",
    " -Tipo 1 (Sostenimiento moderado): En estos casos, el terreno es relativamente estable, pero se puede usar mallas o pernos de anclaje en áreas donde hay ligera inestabilidad.\n",
    "\n",
    " -Tipo 2 (Fuerte): Aquí, los materiales como cimbras, mallas, y pernos son esenciales. También se puede requerir el uso de resinas o hormigón en áreas con más inestabilidad.\n",
    "\n",
    " -Tipo 3 (Muy fuerte): En estas situaciones, se necesitan sistemas de anclaje más fuertes, mallas de acero de alta resistencia, hormigón y monitoreo constante para garantizar que el terreno se mantenga estable."
   ]
  },
  {
   "cell_type": "code",
   "execution_count": 284,
   "metadata": {},
   "outputs": [
    {
     "name": "stdout",
     "output_type": "stream",
     "text": [
      "\u001b[1m1/1\u001b[0m \u001b[32m━━━━━━━━━━━━━━━━━━━━\u001b[0m\u001b[37m\u001b[0m \u001b[1m0s\u001b[0m 87ms/step\n",
      "El tipo de sostenimiento predicho es: 1\n"
     ]
    }
   ],
   "source": [
    "# Hacer la predicción con nuevos datos\n",
    "input_data = pd.DataFrame(diccionario)\n",
    "\n",
    "# Normalizar los datos de entrada\n",
    "input_data_scaled = scaler.transform(input_data)\n",
    "\n",
    "# Hacer la predicción\n",
    "prediccion = model.predict(input_data_scaled)\n",
    "tipo_sostenimiento_predicho = np.argmax(prediccion, axis=1)\n",
    "\n",
    "print(f\"El tipo de sostenimiento predicho es: {tipo_sostenimiento_predicho[0]}\")"
   ]
  }
 ],
 "metadata": {
  "kernelspec": {
   "display_name": "Python 3",
   "language": "python",
   "name": "python3"
  },
  "language_info": {
   "codemirror_mode": {
    "name": "ipython",
    "version": 3
   },
   "file_extension": ".py",
   "mimetype": "text/x-python",
   "name": "python",
   "nbconvert_exporter": "python",
   "pygments_lexer": "ipython3",
   "version": "3.12.0"
  }
 },
 "nbformat": 4,
 "nbformat_minor": 2
}
